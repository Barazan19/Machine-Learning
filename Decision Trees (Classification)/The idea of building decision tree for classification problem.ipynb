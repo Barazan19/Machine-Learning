{
 "cells": [
  {
   "cell_type": "markdown",
   "id": "ce0ea87e",
   "metadata": {},
   "source": [
    "# 🧠 Manual Decision Tree from Scratch\n",
    "This notebook demonstrates the intuition and step-by-step implementation of Decision Trees for classification problem.\n",
    "We will use a simple dataset (`Insurance_Claim_Dataset.csv`) to correctly predict the classification whether some features can be classified as potentially claim or not."
   ]
  },
  {
   "cell_type": "markdown",
   "id": "94840ca0",
   "metadata": {},
   "source": [
    "This notebook demonstrates how **decision trees** fits a classification problem  \n",
    "using **gini impurity** from scratch — without `sklearn`.\n",
    "\n",
    "We will:\n",
    "- Use all feature\n",
    "- Define the **Gini Impurity** and calculate the **Weighted Gini** for each features\n",
    "- Derive and apply decision trees step-by-step\n",
    "- Find the root and leaves of the trees along with feature reductions\n",
    "- Plot results\n",
    "- Find the accuracy of the model"
   ]
  },
  {
   "cell_type": "markdown",
   "id": "b0580d1c",
   "metadata": {},
   "source": [
    "## 📦 1. Load and Prepare Data"
   ]
  },
  {
   "cell_type": "code",
   "execution_count": 1,
   "id": "704a8af5",
   "metadata": {},
   "outputs": [
    {
     "data": {
      "text/html": [
       "<div>\n",
       "<style scoped>\n",
       "    .dataframe tbody tr th:only-of-type {\n",
       "        vertical-align: middle;\n",
       "    }\n",
       "\n",
       "    .dataframe tbody tr th {\n",
       "        vertical-align: top;\n",
       "    }\n",
       "\n",
       "    .dataframe thead th {\n",
       "        text-align: right;\n",
       "    }\n",
       "</style>\n",
       "<table border=\"1\" class=\"dataframe\">\n",
       "  <thead>\n",
       "    <tr style=\"text-align: right;\">\n",
       "      <th></th>\n",
       "      <th>Age</th>\n",
       "      <th>Sex</th>\n",
       "      <th>Smoker</th>\n",
       "      <th>BMI</th>\n",
       "      <th>Sport</th>\n",
       "      <th>Claim</th>\n",
       "    </tr>\n",
       "  </thead>\n",
       "  <tbody>\n",
       "    <tr>\n",
       "      <th>0</th>\n",
       "      <td>56</td>\n",
       "      <td>0</td>\n",
       "      <td>0</td>\n",
       "      <td>31.6</td>\n",
       "      <td>1</td>\n",
       "      <td>0</td>\n",
       "    </tr>\n",
       "    <tr>\n",
       "      <th>1</th>\n",
       "      <td>46</td>\n",
       "      <td>1</td>\n",
       "      <td>0</td>\n",
       "      <td>25.1</td>\n",
       "      <td>1</td>\n",
       "      <td>0</td>\n",
       "    </tr>\n",
       "    <tr>\n",
       "      <th>2</th>\n",
       "      <td>32</td>\n",
       "      <td>0</td>\n",
       "      <td>0</td>\n",
       "      <td>24.3</td>\n",
       "      <td>0</td>\n",
       "      <td>0</td>\n",
       "    </tr>\n",
       "    <tr>\n",
       "      <th>3</th>\n",
       "      <td>60</td>\n",
       "      <td>1</td>\n",
       "      <td>1</td>\n",
       "      <td>32.4</td>\n",
       "      <td>1</td>\n",
       "      <td>0</td>\n",
       "    </tr>\n",
       "    <tr>\n",
       "      <th>4</th>\n",
       "      <td>25</td>\n",
       "      <td>1</td>\n",
       "      <td>0</td>\n",
       "      <td>18.9</td>\n",
       "      <td>0</td>\n",
       "      <td>0</td>\n",
       "    </tr>\n",
       "  </tbody>\n",
       "</table>\n",
       "</div>"
      ],
      "text/plain": [
       "   Age  Sex  Smoker   BMI  Sport  Claim\n",
       "0   56    0       0  31.6      1      0\n",
       "1   46    1       0  25.1      1      0\n",
       "2   32    0       0  24.3      0      0\n",
       "3   60    1       1  32.4      1      0\n",
       "4   25    1       0  18.9      0      0"
      ]
     },
     "execution_count": 1,
     "metadata": {},
     "output_type": "execute_result"
    }
   ],
   "source": [
    "import pandas as pd\n",
    "from collections import Counter\n",
    "\n",
    "# Load the dataset\n",
    "df = pd.read_csv(\"data/insurance_claim_dataset.csv\")\n",
    "\n",
    "# Select features and target\n",
    "features = ['Age', 'Sex', 'Smoker', 'BMI', 'Sport']\n",
    "target = 'Claim'\n",
    "X = df[features].values\n",
    "y = df[target].values\n",
    "\n",
    "df.head()"
   ]
  },
  {
   "cell_type": "code",
   "execution_count": 2,
   "id": "e911c544",
   "metadata": {},
   "outputs": [
    {
     "data": {
      "text/plain": [
       "[np.float64(56.0),\n",
       " np.float64(0.0),\n",
       " np.float64(0.0),\n",
       " np.float64(31.6),\n",
       " np.float64(1.0),\n",
       " np.int64(0)]"
      ]
     },
     "execution_count": 2,
     "metadata": {},
     "output_type": "execute_result"
    }
   ],
   "source": [
    "# Combine into a single list\n",
    "data = [list(row) + [label] for row, label in zip(X, y)]\n",
    "data[0]"
   ]
  },
  {
   "cell_type": "markdown",
   "id": "f0a033a3",
   "metadata": {},
   "source": [
    "## 📊 2. Gini Impurity Calculation\n",
    "\n",
    "$$\n",
    "\\text{Gini}(t) = 1 - \\sum_{i=1}^{C} p_i^2\n",
    "$$\n",
    "\n",
    "Where:\n",
    "- \\( C \\): number of classes  \n",
    "- \\( p_i \\): proportion of class \\( i \\) in the node\n"
   ]
  },
  {
   "cell_type": "code",
   "execution_count": 3,
   "id": "35fa7658",
   "metadata": {},
   "outputs": [
    {
     "data": {
      "text/plain": [
       "0.48"
      ]
     },
     "execution_count": 3,
     "metadata": {},
     "output_type": "execute_result"
    }
   ],
   "source": [
    "def gini_impurity(rows):\n",
    "    counts = Counter([row[-1] for row in rows])\n",
    "    impurity = 1\n",
    "    total = len(rows)\n",
    "    for lbl in counts:\n",
    "        prob_of_lbl = counts[lbl] / total\n",
    "        impurity -= prob_of_lbl ** 2\n",
    "    return impurity\n",
    "\n",
    "gini_impurity(data)"
   ]
  },
  {
   "cell_type": "markdown",
   "id": "11bc1a56",
   "metadata": {},
   "source": [
    "## ✂️ 3. Split Data and Weighted Gini"
   ]
  },
  {
   "cell_type": "markdown",
   "id": "98075a0b",
   "metadata": {},
   "source": [
    "we're gonna testing whether 50 is the best split?"
   ]
  },
  {
   "cell_type": "code",
   "execution_count": 4,
   "id": "18b10b90",
   "metadata": {},
   "outputs": [
    {
     "data": {
      "text/plain": [
       "0.4420345267060596"
      ]
     },
     "execution_count": 4,
     "metadata": {},
     "output_type": "execute_result"
    }
   ],
   "source": [
    "def split_data(rows, feature_index, threshold):\n",
    "    left = [row for row in rows if row[feature_index] <= threshold]\n",
    "    right = [row for row in rows if row[feature_index] > threshold]\n",
    "    return left, right\n",
    "\n",
    "def weighted_gini(left, right):\n",
    "    total = len(left) + len(right)\n",
    "    return (len(left) / total) * gini_impurity(left) + (len(right) / total) * gini_impurity(right)\n",
    "\n",
    "left, right = split_data(data, 0, 50)\n",
    "weighted_gini(left, right)"
   ]
  },
  {
   "cell_type": "markdown",
   "id": "a99c55c1",
   "metadata": {},
   "source": [
    "## 📊 4. Best Split for One Feature (e.g., Age)"
   ]
  },
  {
   "cell_type": "markdown",
   "id": "4d6dfcce",
   "metadata": {},
   "source": [
    "### Gini Impurity Calculation for Threshold Age ≤ 47\n",
    "\n",
    "We evaluate the quality of a potential split using the **Gini impurity**. Here's how we calculate it step-by-step for threshold **Age ≤ 47**:\n",
    "\n",
    "---\n",
    "\n",
    "#### ✅ Left Group (`Age ≤ 47`)\n",
    "- Number of samples: **126**\n",
    "- Class distribution:  \n",
    "  - Claim = 0 → 92  \n",
    "  - Claim = 1 → 34\n",
    "\n",
    "$$\n",
    "\\text{Gini}_{\\text{left}} = 1 - \\left(\\frac{92}{126}\\right)^2 - \\left(\\frac{34}{126}\\right)^2 = 1 - 0.7302^2 - 0.2698^2 ≈ 0.3941\n",
    "$$\n",
    "\n",
    "---\n",
    "\n",
    "#### ✅ Right Group (`Age > 47`)\n",
    "- Number of samples: **74**\n",
    "- Class distribution:  \n",
    "  - Claim = 1 → 46  \n",
    "  - Claim = 0 → 28\n",
    "\n",
    "$$\n",
    "\\text{Gini}_{\\text{right}} = 1 - \\left(\\frac{46}{74}\\right)^2 - \\left(\\frac{28}{74}\\right)^2 = 1 - 0.6216^2 - 0.3784^2 ≈ 0.4704\n",
    "$$\n",
    "\n",
    "---\n",
    "\n",
    "#### ⚖️ Weighted Gini Impurity\n",
    "\n",
    "$$\n",
    "\\text{Gini}_{\\text{weighted}} = \\frac{126}{200} \\cdot 0.3941 + \\frac{74}{200} \\cdot 0.4704 ≈ 0.4223\n",
    "$$\n",
    "\n",
    "---\n",
    "\n",
    "✅ Therefore, **Age ≤ 47** gives a total weighted Gini impurity of **0.4223**, making it a strong candidate for a split point in the decision tree.\n"
   ]
  },
  {
   "cell_type": "code",
   "execution_count": 5,
   "id": "1004c82d",
   "metadata": {},
   "outputs": [
    {
     "data": {
      "text/plain": [
       "(np.float64(47.0), 0.42230802230802233)"
      ]
     },
     "execution_count": 5,
     "metadata": {},
     "output_type": "execute_result"
    }
   ],
   "source": [
    "def find_best_split_for_feature(rows, feature_index):\n",
    "    best_gini = 1\n",
    "    best_threshold = None\n",
    "    unique_values = sorted(set([row[feature_index] for row in rows]))\n",
    "    for threshold in unique_values:\n",
    "        left, right = split_data(rows, feature_index, threshold)\n",
    "        if len(left) == 0 or len(right) == 0:\n",
    "            continue\n",
    "        gini = weighted_gini(left, right)\n",
    "        if gini < best_gini:\n",
    "            best_gini = gini\n",
    "            best_threshold = threshold\n",
    "    return best_threshold, best_gini\n",
    "\n",
    "find_best_split_for_feature(data, 0)"
   ]
  },
  {
   "cell_type": "markdown",
   "id": "9787ff56",
   "metadata": {},
   "source": [
    "## 🔍 5. Best Split Across All Features"
   ]
  },
  {
   "cell_type": "markdown",
   "id": "72d19af2",
   "metadata": {},
   "source": [
    "### 🌳 Finding the Best Feature for the Root Node\n",
    "\n",
    "To determine the best feature to split at the **root node**, we loop through **all features** and calculate the best possible threshold and corresponding Gini impurity for each.\n",
    "\n",
    "We use the function:"
   ]
  },
  {
   "cell_type": "code",
   "execution_count": 6,
   "id": "9414e328",
   "metadata": {},
   "outputs": [
    {
     "data": {
      "text/plain": [
       "(0, np.float64(47.0), 0.42230802230802233)"
      ]
     },
     "execution_count": 6,
     "metadata": {},
     "output_type": "execute_result"
    }
   ],
   "source": [
    "def find_best_split(rows):\n",
    "    best_feature = None\n",
    "    best_threshold = None\n",
    "    best_gini = 1\n",
    "    num_features = len(rows[0]) - 1\n",
    "    for feature_index in range(num_features):\n",
    "        threshold, gini = find_best_split_for_feature(rows, feature_index)\n",
    "        if gini < best_gini:\n",
    "            best_gini = gini\n",
    "            best_threshold = threshold\n",
    "            best_feature = feature_index\n",
    "    return best_feature, best_threshold, best_gini\n",
    "\n",
    "find_best_split(data)"
   ]
  },
  {
   "cell_type": "markdown",
   "id": "60f888cb",
   "metadata": {},
   "source": [
    "## 🌳 6a. Recursive Tree Building"
   ]
  },
  {
   "cell_type": "markdown",
   "id": "ec5696a5",
   "metadata": {},
   "source": [
    "Once we've identified the best feature and threshold for splitting at the current node, we can recursively apply the same logic to the resulting **left** and **right** subsets.\n",
    "\n",
    "This recursive process continues until one of the following stopping conditions is met:\n",
    "- All rows belong to the same class (pure node)\n",
    "- No further information gain can be achieved\n",
    "- Optionally, we can add max depth or min samples as stopping criteria\n",
    "\n",
    "In this case we try to set max_depth = 3 based on\n",
    "### 📌 Choosing the Right `max_depth` Value\n",
    "\n",
    "The `max_depth` parameter controls how deep the decision tree can grow. It helps prevent overfitting by limiting how specific the tree becomes when fitting to the training data.\n",
    "\n",
    "Here are some general recommendations for selecting `max_depth`:\n",
    "\n",
    "| Scenario                          | Recommended `max_depth` |\n",
    "|----------------------------------|--------------------------|\n",
    "| You want a simple, interpretable model | **2–4**                  |\n",
    "| Your dataset is large or complex        | **5–10**                 |\n",
    "| You're tuning hyperparameters          | Use **GridSearchCV** to find the optimal value |\n",
    "\n",
    "💡 The ideal `max_depth` depends on your specific dataset and goals. Always validate performance using cross-validation to avoid overfitting or underfitting.\n",
    "\n",
    "Later we'll try to compare this results with model with scikit learn library and GridSearchCV cross validation from another notebook"
   ]
  },
  {
   "cell_type": "code",
   "execution_count": 7,
   "id": "8384e1bf",
   "metadata": {},
   "outputs": [],
   "source": [
    "class DecisionNode:\n",
    "    def __init__(self, feature=None, threshold=None, left=None, right=None, *, value=None):\n",
    "        self.feature = feature\n",
    "        self.threshold = threshold\n",
    "        self.left = left\n",
    "        self.right = right\n",
    "        self.value = value\n",
    "\n",
    "def class_counts(rows):\n",
    "    return Counter([row[-1] for row in rows])\n",
    "\n",
    "def build_tree(rows, depth=0, max_depth=3):\n",
    "    labels = [row[-1] for row in rows]\n",
    "    if len(set(labels)) == 1:\n",
    "        return DecisionNode(value=labels[0])\n",
    "    if depth >= max_depth:\n",
    "        majority_label = class_counts(rows).most_common(1)[0][0]\n",
    "        return DecisionNode(value=majority_label)\n",
    "    feature, threshold, gini = find_best_split(rows)\n",
    "    if feature is None:\n",
    "        majority_label = class_counts(rows).most_common(1)[0][0]\n",
    "        return DecisionNode(value=majority_label)\n",
    "    left_rows, right_rows = split_data(rows, feature, threshold)\n",
    "    left_branch = build_tree(left_rows, depth + 1, max_depth)\n",
    "    right_branch = build_tree(right_rows, depth + 1, max_depth)\n",
    "    return DecisionNode(feature, threshold, left_branch, right_branch)\n",
    "\n",
    "tree = build_tree(data)"
   ]
  },
  {
   "cell_type": "markdown",
   "id": "a4e761db",
   "metadata": {},
   "source": [
    "## 🌳 6b. Feature Usage Frequency"
   ]
  },
  {
   "cell_type": "code",
   "execution_count": 8,
   "id": "df4774b8",
   "metadata": {},
   "outputs": [
    {
     "data": {
      "image/png": "[encoded data removed]",
      "text/plain": [
       "<Figure size 800x500 with 1 Axes>"
      ]
     },
     "metadata": {},
     "output_type": "display_data"
    }
   ],
   "source": [
    "import matplotlib.pyplot as plt\n",
    "from collections import defaultdict\n",
    "\n",
    "# Fungsi untuk menghitung seberapa sering setiap fitur dipakai\n",
    "def count_feature_usage(node, counter=None):\n",
    "    if counter is None:\n",
    "        counter = defaultdict(int)\n",
    "    if node is None or node.value is not None:\n",
    "        return counter\n",
    "    counter[node.feature] += 1\n",
    "    count_feature_usage(node.left, counter)\n",
    "    count_feature_usage(node.right, counter)\n",
    "    return counter\n",
    "\n",
    "# Hitung frekuensi pemakaian fitur\n",
    "feature_usage = count_feature_usage(tree)\n",
    "feature_usage_named = {features[i]: count for i, count in feature_usage.items()}\n",
    "\n",
    "# Buat bar chart\n",
    "plt.figure(figsize=(8, 5))\n",
    "plt.bar(feature_usage_named.keys(), feature_usage_named.values())\n",
    "plt.title(\"Feature Usage Frequency in Decision Tree\")\n",
    "plt.xlabel(\"Feature\")\n",
    "plt.ylabel(\"Times Used in Tree\")\n",
    "plt.grid(axis='y', linestyle='--', alpha=0.7)\n",
    "plt.tight_layout()\n",
    "plt.show()\n"
   ]
  },
  {
   "cell_type": "markdown",
   "id": "004b4bff",
   "metadata": {},
   "source": [
    "### 🧹 Automatic Feature Reduction in Decision Trees\n",
    "\n",
    "One of the powerful properties of decision trees is that they perform **feature selection automatically** as part of the tree-building process.\n",
    "\n",
    "---\n",
    "\n",
    "#### ✅ How It Works:\n",
    "\n",
    "At each node, the tree:\n",
    "1. Evaluates all available features and thresholds\n",
    "2. Selects the **feature and threshold that produce the greatest reduction in impurity** (e.g., Gini)\n",
    "3. Builds subtrees only from the **best split**, and completely ignores the rest\n",
    "\n",
    "This means:\n",
    "- Features that do **not help reduce impurity** are **never used**\n",
    "- They are effectively **eliminated** from the model — even though they were originally part of the dataset\n",
    "\n",
    "---\n",
    "\n",
    "#### 🧠 Real Example from Our Notebook:\n",
    "\n",
    "Out of 5 features:\n",
    "- **Used in tree**: `Age`, `BMI`, `Sport`\n",
    "- **Not used at all**: `Sex`, `Smoker`\n",
    "\n",
    "These unused features were **automatically excluded** because they never provided a better split than the selected ones.\n",
    "\n",
    "---\n",
    "\n",
    "#### 🎯 Key Takeaway:\n",
    "> Decision trees naturally perform **feature reduction** by **only using the most informative features** at each step, making them not only predictive but also interpretable and efficient.\n"
   ]
  },
  {
   "cell_type": "markdown",
   "id": "407b5740",
   "metadata": {},
   "source": [
    "## 🎯 7. Prediction Function"
   ]
  },
  {
   "cell_type": "markdown",
   "id": "d20a69e7",
   "metadata": {},
   "source": [
    "After the decision tree is built, we use a recursive function to **predict the label** of a new data point by traversing the tree from root to leaf.\n",
    "\n",
    "---\n",
    "\n",
    "#### 🧠 Function: `predict(row, node)`"
   ]
  },
  {
   "cell_type": "code",
   "execution_count": 9,
   "id": "e3a1238e",
   "metadata": {},
   "outputs": [
    {
     "data": {
      "text/plain": [
       "[np.int64(0), np.int64(0), np.int64(0), np.int64(0), np.int64(0)]"
      ]
     },
     "execution_count": 9,
     "metadata": {},
     "output_type": "execute_result"
    }
   ],
   "source": [
    "def predict(row, node):\n",
    "    if node.value is not None:\n",
    "        return node.value\n",
    "    if row[node.feature] <= node.threshold:\n",
    "        return predict(row, node.left)\n",
    "    else:\n",
    "        return predict(row, node.right)\n",
    "\n",
    "[predict(row, tree) for row in data[:5]]"
   ]
  },
  {
   "cell_type": "markdown",
   "id": "56e5d629",
   "metadata": {},
   "source": [
    "## 📜 8a. Print Tree (Text-based)"
   ]
  },
  {
   "cell_type": "code",
   "execution_count": 10,
   "id": "51327cfb",
   "metadata": {},
   "outputs": [
    {
     "name": "stdout",
     "output_type": "stream",
     "text": [
      "If Age ≤ 47.0:\n",
      "--> True:\n",
      "   If BMI ≤ 29.6:\n",
      "   --> True:\n",
      "      If Age ≤ 28.0:\n",
      "      --> True:\n",
      "         Predict → 0\n",
      "      --> False:\n",
      "         Predict → 0\n",
      "   --> False:\n",
      "      If Age ≤ 44.0:\n",
      "      --> True:\n",
      "         Predict → 0\n",
      "      --> False:\n",
      "         Predict → 1\n",
      "--> False:\n",
      "   If Sport ≤ 0.0:\n",
      "   --> True:\n",
      "      If BMI ≤ 32.3:\n",
      "      --> True:\n",
      "         Predict → 1\n",
      "      --> False:\n",
      "         Predict → 0\n",
      "   --> False:\n",
      "      If Age ≤ 53.0:\n",
      "      --> True:\n",
      "         Predict → 1\n",
      "      --> False:\n",
      "         Predict → 0\n"
     ]
    }
   ],
   "source": [
    "feature_names = ['Age', 'Sex', 'Smoker', 'BMI', 'Sport']\n",
    "\n",
    "def print_tree(node, spacing=\"\"):\n",
    "    if node.value is not None:\n",
    "        print(spacing + f\"Predict → {node.value}\")\n",
    "        return\n",
    "    print(spacing + f\"If {feature_names[node.feature]} ≤ {node.threshold}:\")\n",
    "    print(spacing + \"--> True:\")\n",
    "    print_tree(node.left, spacing + \"   \")\n",
    "    print(spacing + \"--> False:\")\n",
    "    print_tree(node.right, spacing + \"   \")\n",
    "\n",
    "print_tree(tree)"
   ]
  },
  {
   "cell_type": "markdown",
   "id": "ce2721dc",
   "metadata": {},
   "source": [
    "## 📜 8b. Print Tree (Graph Based)"
   ]
  },
  {
   "cell_type": "code",
   "execution_count": 11,
   "id": "91986f16",
   "metadata": {},
   "outputs": [
    {
     "data": {
      "image/png": "[encoded data removed]",
      "text/plain": [
       "<IPython.core.display.Image object>"
      ]
     },
     "metadata": {},
     "output_type": "display_data"
    }
   ],
   "source": [
    "from graphviz import Digraph\n",
    "\n",
    "def draw_tree_graphviz(node, feature_names, dot=None, counter=[0]):\n",
    "    \"\"\"\n",
    "    Recursively draw a decision tree using graphviz.\n",
    "    \"\"\"\n",
    "    if dot is None:\n",
    "        dot = Digraph()\n",
    "    \n",
    "    node_id = str(counter[0])\n",
    "    counter[0] += 1\n",
    "\n",
    "    # Leaf node\n",
    "    if node.value is not None:\n",
    "        label = f\"Predict: {node.value}\"\n",
    "        dot.node(node_id, label, shape=\"box\", style=\"filled\", color=\"lightblue\")\n",
    "        return dot, node_id\n",
    "\n",
    "    # Internal node\n",
    "    label = f\"{feature_names[node.feature]} ≤ {node.threshold}\"\n",
    "    dot.node(node_id, label, shape=\"ellipse\")\n",
    "\n",
    "    # Left (True) branch\n",
    "    dot, left_id = draw_tree_graphviz(node.left, feature_names, dot, counter)\n",
    "    dot.edge(node_id, left_id, label=\"True\")\n",
    "\n",
    "    # Right (False) branch\n",
    "    dot, right_id = draw_tree_graphviz(node.right, feature_names, dot, counter)\n",
    "    dot.edge(node_id, right_id, label=\"False\")\n",
    "\n",
    "    return dot, node_id\n",
    "\n",
    "# Example usage:\n",
    "feature_names = ['Age', 'Sex', 'Smoker', 'BMI', 'Sport']\n",
    "dot, _ = draw_tree_graphviz(tree, feature_names)\n",
    "\n",
    "# Save and/or display\n",
    "# dot.render(\"Decision_Tree_Visualization\", format='png', cleanup=True)\n",
    "# dot.view()  # Opens the image in default viewer if running locally\n",
    "from IPython.display import Image, display\n",
    "\n",
    "# Tampilkan langsung di notebook\n",
    "display(Image(dot.pipe(format='png')))\n"
   ]
  },
  {
   "cell_type": "markdown",
   "id": "ab1c72d1",
   "metadata": {},
   "source": [
    "### 🧪 9: Train-Test Split and Accuracy Evaluation (Manual)\n",
    "\n",
    "To evaluate how well our manually-built decision tree generalizes, we split the dataset into **training** and **testing** sets manually.\n",
    "\n",
    "Then we:\n",
    "1. Build the tree using only the training data\n",
    "2. Predict using the testing data\n",
    "3. Compare predicted vs actual labels to compute accuracy\n"
   ]
  },
  {
   "cell_type": "code",
   "execution_count": 12,
   "id": "c17d96d7",
   "metadata": {},
   "outputs": [
    {
     "name": "stdout",
     "output_type": "stream",
     "text": [
      "Manual Decision Tree Accuracy (on test set): 0.6250\n"
     ]
    }
   ],
   "source": [
    "from random import shuffle\n",
    "\n",
    "# 1. Split manually without sklearn\n",
    "shuffle(data)\n",
    "split_idx = int(0.8 * len(data))\n",
    "train_data = data[:split_idx]\n",
    "test_data = data[split_idx:]\n",
    "\n",
    "# 2. Build tree on train_data\n",
    "tree = build_tree(train_data)\n",
    "\n",
    "# 3. Predict on test_data\n",
    "def evaluate_accuracy(tree, test_data):\n",
    "    correct = 0\n",
    "    for row in test_data:\n",
    "        pred = predict(row, tree)\n",
    "        if pred == row[-1]:\n",
    "            correct += 1\n",
    "    return correct / len(test_data)\n",
    "\n",
    "accuracy = evaluate_accuracy(tree, test_data)\n",
    "print(f\"Manual Decision Tree Accuracy (on test set): {accuracy:.4f}\")\n"
   ]
  },
  {
   "cell_type": "markdown",
   "id": "848d92d3",
   "metadata": {},
   "source": [
    "## 📈 10. Accuracy and Confusion Matrix"
   ]
  },
  {
   "cell_type": "code",
   "execution_count": 13,
   "id": "2e8c6bb6",
   "metadata": {},
   "outputs": [
    {
     "name": "stdout",
     "output_type": "stream",
     "text": [
      "Confusion Matrix:\n",
      "[[85 35]\n",
      " [24 56]]\n",
      "Accuracy: 0.70\n"
     ]
    }
   ],
   "source": [
    "\n",
    "\n",
    "\n",
    "from sklearn.metrics import confusion_matrix, accuracy_score\n",
    "\n",
    "y_true = [row[-1] for row in data]\n",
    "y_pred = [predict(row, tree) for row in data]\n",
    "\n",
    "conf_matrix = confusion_matrix(y_true, y_pred)\n",
    "accuracy = accuracy_score(y_true, y_pred)\n",
    "\n",
    "print(\"Confusion Matrix:\")\n",
    "print(conf_matrix)\n",
    "print(f\"Accuracy: {accuracy:.2f}\")"
   ]
  }
 ],
 "metadata": {
  "kernelspec": {
   "display_name": ".venv",
   "language": "python",
   "name": "python3"
  },
  "language_info": {
   "codemirror_mode": {
    "name": "ipython",
    "version": 3
   },
   "file_extension": ".py",
   "mimetype": "text/x-python",
   "name": "python",
   "nbconvert_exporter": "python",
   "pygments_lexer": "ipython3",
   "version": "3.11.0"
  }
 },
 "nbformat": 4,
 "nbformat_minor": 5
}
