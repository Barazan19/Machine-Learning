{
 "cells": [
  {
   "cell_type": "markdown",
   "id": "d2bb378a",
   "metadata": {},
   "source": [
    "# Logistic Regression and Cross-Validation Evaluation"
   ]
  },
  {
   "cell_type": "markdown",
   "id": "14ee55bd",
   "metadata": {},
   "source": [
    "\n",
    "This notebook demonstrates how to evaluate a simple Logistic Regression model using various cross-validation techniques on a health insurance dataset.\n"
   ]
  },
  {
   "cell_type": "markdown",
   "id": "2e7b5275",
   "metadata": {},
   "source": [
    "## Step 1: Load and Explore the Dataset"
   ]
  },
  {
   "cell_type": "code",
   "execution_count": 1,
   "id": "3117e467",
   "metadata": {},
   "outputs": [
    {
     "data": {
      "text/html": [
       "<div>\n",
       "<style scoped>\n",
       "    .dataframe tbody tr th:only-of-type {\n",
       "        vertical-align: middle;\n",
       "    }\n",
       "\n",
       "    .dataframe tbody tr th {\n",
       "        vertical-align: top;\n",
       "    }\n",
       "\n",
       "    .dataframe thead th {\n",
       "        text-align: right;\n",
       "    }\n",
       "</style>\n",
       "<table border=\"1\" class=\"dataframe\">\n",
       "  <thead>\n",
       "    <tr style=\"text-align: right;\">\n",
       "      <th></th>\n",
       "      <th>Age</th>\n",
       "      <th>Sex</th>\n",
       "      <th>Smoker</th>\n",
       "      <th>BMI</th>\n",
       "      <th>Sport</th>\n",
       "      <th>Claim</th>\n",
       "    </tr>\n",
       "  </thead>\n",
       "  <tbody>\n",
       "    <tr>\n",
       "      <th>0</th>\n",
       "      <td>56</td>\n",
       "      <td>0</td>\n",
       "      <td>0</td>\n",
       "      <td>31.6</td>\n",
       "      <td>1</td>\n",
       "      <td>0</td>\n",
       "    </tr>\n",
       "    <tr>\n",
       "      <th>1</th>\n",
       "      <td>46</td>\n",
       "      <td>1</td>\n",
       "      <td>0</td>\n",
       "      <td>25.1</td>\n",
       "      <td>1</td>\n",
       "      <td>0</td>\n",
       "    </tr>\n",
       "    <tr>\n",
       "      <th>2</th>\n",
       "      <td>32</td>\n",
       "      <td>0</td>\n",
       "      <td>0</td>\n",
       "      <td>24.3</td>\n",
       "      <td>0</td>\n",
       "      <td>0</td>\n",
       "    </tr>\n",
       "    <tr>\n",
       "      <th>3</th>\n",
       "      <td>60</td>\n",
       "      <td>1</td>\n",
       "      <td>1</td>\n",
       "      <td>32.4</td>\n",
       "      <td>1</td>\n",
       "      <td>0</td>\n",
       "    </tr>\n",
       "    <tr>\n",
       "      <th>4</th>\n",
       "      <td>25</td>\n",
       "      <td>1</td>\n",
       "      <td>0</td>\n",
       "      <td>18.9</td>\n",
       "      <td>0</td>\n",
       "      <td>0</td>\n",
       "    </tr>\n",
       "  </tbody>\n",
       "</table>\n",
       "</div>"
      ],
      "text/plain": [
       "   Age  Sex  Smoker   BMI  Sport  Claim\n",
       "0   56    0       0  31.6      1      0\n",
       "1   46    1       0  25.1      1      0\n",
       "2   32    0       0  24.3      0      0\n",
       "3   60    1       1  32.4      1      0\n",
       "4   25    1       0  18.9      0      0"
      ]
     },
     "execution_count": 1,
     "metadata": {},
     "output_type": "execute_result"
    }
   ],
   "source": [
    "\n",
    "import pandas as pd\n",
    "\n",
    "df = pd.read_csv(\"data/insurance_claim_dataset.csv\")\n",
    "df.head()\n"
   ]
  },
  {
   "cell_type": "markdown",
   "id": "b1232fa5",
   "metadata": {},
   "source": [
    "## Step 2: Prepare Features and Target"
   ]
  },
  {
   "cell_type": "code",
   "execution_count": 2,
   "id": "64c8cded",
   "metadata": {},
   "outputs": [],
   "source": [
    "\n",
    "from sklearn.model_selection import train_test_split\n",
    "from sklearn.metrics import accuracy_score\n",
    "from model.logistic_model import get_logistic_model, scale_features\n",
    "\n",
    "X = df.drop(\"Claim\", axis=1)\n",
    "y = df[\"Claim\"]\n",
    "X_scaled = scale_features(X)\n",
    "model = get_logistic_model()\n"
   ]
  },
  {
   "cell_type": "markdown",
   "id": "27bfd190",
   "metadata": {},
   "source": [
    "## Step 3: Evaluate without Cross-Validation"
   ]
  },
  {
   "cell_type": "code",
   "execution_count": 3,
   "id": "5e5bcb75",
   "metadata": {},
   "outputs": [
    {
     "name": "stdout",
     "output_type": "stream",
     "text": [
      "Accuracy without CV: 0.775\n"
     ]
    }
   ],
   "source": [
    "\n",
    "X_train, X_test, y_train, y_test = train_test_split(X_scaled, y, test_size=0.2, random_state=42)\n",
    "model.fit(X_train, y_train)\n",
    "y_pred = model.predict(X_test)\n",
    "accuracy_no_cv = accuracy_score(y_test, y_pred)\n",
    "print(\"Accuracy without CV:\", accuracy_no_cv)\n"
   ]
  },
  {
   "cell_type": "markdown",
   "id": "e62026c6",
   "metadata": {},
   "source": [
    "## Step 4: Evaluate with Various Cross-Validation Methods"
   ]
  },
  {
   "cell_type": "code",
   "execution_count": 4,
   "id": "85d08279",
   "metadata": {},
   "outputs": [
    {
     "name": "stdout",
     "output_type": "stream",
     "text": [
      "Cross-Validation Results:\n",
      "K-Fold (5): 0.670\n",
      "Stratified K-Fold (5): 0.680\n",
      "Leave-One-Out (LOOCV): 0.665\n",
      "Repeated K-Fold (5x3): 0.660\n"
     ]
    }
   ],
   "source": [
    "\n",
    "from sklearn.model_selection import KFold, StratifiedKFold, LeaveOneOut, RepeatedKFold, cross_val_score\n",
    "\n",
    "results = {}\n",
    "\n",
    "kfold = KFold(n_splits=5, shuffle=True, random_state=42)\n",
    "results[\"K-Fold (5)\"] = cross_val_score(model, X_scaled, y, cv=kfold, scoring='accuracy').mean()\n",
    "\n",
    "skfold = StratifiedKFold(n_splits=5, shuffle=True, random_state=42)\n",
    "results[\"Stratified K-Fold (5)\"] = cross_val_score(model, X_scaled, y, cv=skfold, scoring='accuracy').mean()\n",
    "\n",
    "loo = LeaveOneOut()\n",
    "results[\"Leave-One-Out (LOOCV)\"] = cross_val_score(model, X_scaled, y, cv=loo, scoring='accuracy').mean()\n",
    "\n",
    "rkfold = RepeatedKFold(n_splits=5, n_repeats=3, random_state=42)\n",
    "results[\"Repeated K-Fold (5x3)\"] = cross_val_score(model, X_scaled, y, cv=rkfold, scoring='accuracy').mean()\n",
    "\n",
    "print(\"Cross-Validation Results:\")\n",
    "for key, value in results.items():\n",
    "    print(f\"{key}: {value:.3f}\")\n"
   ]
  },
  {
   "cell_type": "markdown",
   "id": "265e8407",
   "metadata": {},
   "source": [
    "## Step 5: Comparison Summary"
   ]
  },
  {
   "cell_type": "code",
   "execution_count": 5,
   "id": "3a57cb28",
   "metadata": {},
   "outputs": [
    {
     "data": {
      "image/png": "[encoded data removed]",
      "text/plain": [
       "<Figure size 1000x600 with 1 Axes>"
      ]
     },
     "metadata": {},
     "output_type": "display_data"
    }
   ],
   "source": [
    "\n",
    "import matplotlib.pyplot as plt\n",
    "\n",
    "methods = list(results.keys())\n",
    "scores = list(results.values())\n",
    "\n",
    "plt.figure(figsize=(10, 6))\n",
    "plt.barh(methods, scores)\n",
    "plt.axvline(x=accuracy_no_cv, color='red', linestyle='--', label=\"Train-Test Split\")\n",
    "plt.xlabel(\"Accuracy\")\n",
    "plt.title(\"Cross-Validation Accuracy Comparison\")\n",
    "plt.legend()\n",
    "plt.show()\n"
   ]
  },
  {
   "cell_type": "markdown",
   "id": "cae77bd3",
   "metadata": {},
   "source": [
    "## Conclusion"
   ]
  },
  {
   "cell_type": "markdown",
   "id": "7006a387",
   "metadata": {},
   "source": [
    "\n",
    "Cross-validation is essential to validate your model’s performance more reliably.\n",
    "\n",
    "- **Without cross-validation**, your model might just perform well by chance on one train-test split.\n",
    "- **With cross-validation**, especially K-Fold or Stratified K-Fold, you can ensure your model generalizes better across various subsets of data.\n",
    "- **Overfitting is likely when you rely on a single test split**, as you might be fitting too closely to the data seen, not to new data.\n",
    "\n",
    "Use cross-validation to build models that perform well **in the real world**, not just in your notebook.\n"
   ]
  },
  {
   "cell_type": "markdown",
   "id": "ff37a123",
   "metadata": {},
   "source": [
    "## 🔄 Comparing `n_splits=5` vs `n_splits=10` (K-Fold)"
   ]
  },
  {
   "cell_type": "code",
   "execution_count": 6,
   "id": "6639783c",
   "metadata": {},
   "outputs": [
    {
     "name": "stdout",
     "output_type": "stream",
     "text": [
      "K-Fold (5 splits)  Accuracy: 0.67\n",
      "K-Fold (10 splits) Accuracy: 0.66\n"
     ]
    }
   ],
   "source": [
    "\n",
    "# Compare K-Fold with n_splits=5 vs 10\n",
    "from sklearn.model_selection import cross_val_score\n",
    "\n",
    "kfold_5 = KFold(n_splits=5, shuffle=True, random_state=42)\n",
    "kfold_10 = KFold(n_splits=10, shuffle=True, random_state=42)\n",
    "\n",
    "acc_5 = cross_val_score(model, X_scaled, y, cv=kfold_5, scoring='accuracy').mean()\n",
    "acc_10 = cross_val_score(model, X_scaled, y, cv=kfold_10, scoring='accuracy').mean()\n",
    "\n",
    "print(\"K-Fold (5 splits)  Accuracy:\", round(acc_5, 3))\n",
    "print(\"K-Fold (10 splits) Accuracy:\", round(acc_10, 3))\n"
   ]
  },
  {
   "cell_type": "code",
   "execution_count": 7,
   "id": "02be49fc",
   "metadata": {},
   "outputs": [
    {
     "data": {
      "image/png": "[encoded data removed]",
      "text/plain": [
       "<Figure size 600x400 with 1 Axes>"
      ]
     },
     "metadata": {},
     "output_type": "display_data"
    }
   ],
   "source": [
    "\n",
    "import matplotlib.pyplot as plt\n",
    "\n",
    "# Bar chart comparing the two\n",
    "plt.figure(figsize=(6, 4))\n",
    "plt.bar([\"K-Fold (5 splits)\", \"K-Fold (10 splits)\"], [acc_5, acc_10], color=[\"skyblue\", \"lightgreen\"])\n",
    "plt.title(\"Accuracy Comparison: K-Fold 5 vs 10 Splits\")\n",
    "plt.ylabel(\"Accuracy\")\n",
    "plt.ylim(0, 1)\n",
    "plt.grid(axis='y', linestyle='--', alpha=0.7)\n",
    "plt.show()\n"
   ]
  },
  {
   "cell_type": "code",
   "execution_count": 8,
   "id": "5bac1aa0",
   "metadata": {},
   "outputs": [
    {
     "name": "stdout",
     "output_type": "stream",
     "text": [
      "KFold (5): 0.670\n",
      "KFold (10): 0.660\n",
      "StratifiedKFold (5): 0.680\n",
      "StratifiedKFold (10): 0.680\n"
     ]
    }
   ],
   "source": [
    "\n",
    "# Evaluate KFold and StratifiedKFold with both 5 and 10 splits\n",
    "kf5 = KFold(n_splits=5, shuffle=True, random_state=42)\n",
    "kf10 = KFold(n_splits=10, shuffle=True, random_state=42)\n",
    "skf5 = StratifiedKFold(n_splits=5, shuffle=True, random_state=42)\n",
    "skf10 = StratifiedKFold(n_splits=10, shuffle=True, random_state=42)\n",
    "\n",
    "results_k_vs_sk = {\n",
    "    \"KFold (5)\": cross_val_score(model, X_scaled, y, cv=kf5, scoring='accuracy').mean(),\n",
    "    \"KFold (10)\": cross_val_score(model, X_scaled, y, cv=kf10, scoring='accuracy').mean(),\n",
    "    \"StratifiedKFold (5)\": cross_val_score(model, X_scaled, y, cv=skf5, scoring='accuracy').mean(),\n",
    "    \"StratifiedKFold (10)\": cross_val_score(model, X_scaled, y, cv=skf10, scoring='accuracy').mean(),\n",
    "}\n",
    "\n",
    "# Print results\n",
    "for method, score in results_k_vs_sk.items():\n",
    "    print(f\"{method}: {score:.3f}\")\n"
   ]
  },
  {
   "cell_type": "code",
   "execution_count": 9,
   "id": "1198cb67",
   "metadata": {},
   "outputs": [
    {
     "data": {
      "image/png": "[encoded data removed]",
      "text/plain": [
       "<Figure size 800x500 with 1 Axes>"
      ]
     },
     "metadata": {},
     "output_type": "display_data"
    }
   ],
   "source": [
    "\n",
    "# Plot the comparison\n",
    "plt.figure(figsize=(8, 5))\n",
    "plt.barh(list(results_k_vs_sk.keys()), list(results_k_vs_sk.values()), color=[\"orange\", \"gold\", \"skyblue\", \"lightgreen\"])\n",
    "plt.title(\"Accuracy Comparison: KFold vs StratifiedKFold (5 vs 10 splits)\")\n",
    "plt.xlabel(\"Accuracy\")\n",
    "plt.grid(axis='x', linestyle='--', alpha=0.7)\n",
    "plt.show()\n"
   ]
  },
  {
   "cell_type": "markdown",
   "id": "dec32db6",
   "metadata": {},
   "source": [
    "\n",
    "## ✅ Which Cross-Validation Should You Use (and Why)?\n",
    "\n",
    "Based on the extended results, here’s a comparison:\n",
    "\n",
    "| Method                  | Accuracy | Notes |\n",
    "|-------------------------|----------|-------|\n",
    "| K-Fold (5)              | Varies   | General-purpose, but **not label-aware** |\n",
    "| K-Fold (10)             | Slightly more stable | Still not label-aware |\n",
    "| **Stratified K-Fold (5)** | Better | Keeps class distribution across folds |\n",
    "| **Stratified K-Fold (10)** | Best Choice | Combines balance + stability |\n",
    "| Leave-One-Out (LOOCV)   | Slow, less relevant here | Often underused in practice |\n",
    "| Repeated K-Fold         | Stable but expensive | Best when tuning over multiple metrics |\n",
    "\n",
    "---\n",
    "\n",
    "### 🏁 Recommendation: Use **Stratified K-Fold (10)**\n",
    "\n",
    "**Why?**\n",
    "\n",
    "- This is a **binary classification problem** (`Claim` column),\n",
    "- Dataset likely has **class imbalance** (fewer claims than no-claims),\n",
    "- Stratified K-Fold ensures each fold **preserves class distribution**,\n",
    "- Using **10 splits** increases stability while maintaining that balance.\n",
    "\n",
    "---\n",
    "\n",
    "### ⚠️ Why Not Use Plain K-Fold?\n",
    "\n",
    "- It splits data randomly, so some folds may have **very few or even no positive cases**,\n",
    "- This leads to **biased training/testing** and **inconsistent accuracy**,\n",
    "- Especially problematic for **imbalanced classification** like this one.\n",
    "\n",
    "---\n",
    "\n",
    "### 🧠 Final Thoughts\n",
    "\n",
    "> When working with imbalanced classes, Stratified K-Fold is essential.  \n",
    "> For small-to-mid datasets (like 200 rows), using `n_splits=10` is a solid balance between speed and reliability.\n",
    "\n",
    "If you plan to tune models further or compare many algorithms, consider using **Stratified K-Fold with repeats** or **nested cross-validation** for even more robust results.\n"
   ]
  },
  {
   "cell_type": "code",
   "execution_count": 10,
   "id": "b34f1cb8",
   "metadata": {},
   "outputs": [
    {
     "name": "stdout",
     "output_type": "stream",
     "text": [
      "K-Fold Split Indices:\n",
      "Fold 1\n",
      "  Train indices (sample): [0 1 2 3 4]\n",
      "  Test indices  (sample): [ 9 15 16 18 30]\n",
      "----------------------------------------\n",
      "Fold 2\n",
      "  Train indices (sample): [0 1 2 3 4]\n",
      "  Test indices  (sample): [ 5 12 19 24 26]\n",
      "----------------------------------------\n",
      "Fold 3\n",
      "  Train indices (sample): [1 3 5 7 8]\n",
      "  Test indices  (sample): [ 0  2  4  6 10]\n",
      "----------------------------------------\n",
      "Fold 4\n",
      "  Train indices (sample): [0 1 2 4 5]\n",
      "  Test indices  (sample): [ 3  7  8 13 17]\n",
      "----------------------------------------\n",
      "Fold 5\n",
      "  Train indices (sample): [0 2 3 4 5]\n",
      "  Test indices  (sample): [ 1 14 20 21 37]\n",
      "----------------------------------------\n"
     ]
    }
   ],
   "source": [
    "\n",
    "# Visualize how K-Fold splits the data\n",
    "print(\"K-Fold Split Indices:\")\n",
    "for i, (train_index, test_index) in enumerate(kfold.split(X_scaled)):\n",
    "    print(f\"Fold {i+1}\")\n",
    "    print(\"  Train indices (sample):\", train_index[:5])\n",
    "    print(\"  Test indices  (sample):\", test_index[:5])\n",
    "    print(\"-\" * 40)\n"
   ]
  },
  {
   "cell_type": "code",
   "execution_count": 11,
   "id": "2b534ff0",
   "metadata": {},
   "outputs": [
    {
     "name": "stdout",
     "output_type": "stream",
     "text": [
      "Stratified K-Fold Split Indices:\n",
      "Fold 1\n",
      "  Train indices (sample): [0 1 3 4 5]\n",
      "  Test indices  (sample): [ 2  9 12 15 18]\n",
      "----------------------------------------\n",
      "Fold 2\n",
      "  Train indices (sample): [2 3 5 6 7]\n",
      "  Test indices  (sample): [ 0  1  4 10 11]\n",
      "----------------------------------------\n",
      "Fold 3\n",
      "  Train indices (sample): [0 1 2 4 5]\n",
      "  Test indices  (sample): [ 3  7 16 17 21]\n",
      "----------------------------------------\n",
      "Fold 4\n",
      "  Train indices (sample): [0 1 2 3 4]\n",
      "  Test indices  (sample): [ 6  8 20 23 28]\n",
      "----------------------------------------\n",
      "Fold 5\n",
      "  Train indices (sample): [0 1 2 3 4]\n",
      "  Test indices  (sample): [ 5 13 14 22 24]\n",
      "----------------------------------------\n"
     ]
    }
   ],
   "source": [
    "\n",
    "# Visualize how Stratified K-Fold splits the data\n",
    "print(\"Stratified K-Fold Split Indices:\")\n",
    "for i, (train_index, test_index) in enumerate(skfold.split(X_scaled, y)):\n",
    "    print(f\"Fold {i+1}\")\n",
    "    print(\"  Train indices (sample):\", train_index[:5])\n",
    "    print(\"  Test indices  (sample):\", test_index[:5])\n",
    "    print(\"-\" * 40)\n"
   ]
  }
 ],
 "metadata": {
  "kernelspec": {
   "display_name": "Python 3",
   "language": "python",
   "name": "python3"
  },
  "language_info": {
   "codemirror_mode": {
    "name": "ipython",
    "version": 3
   },
   "file_extension": ".py",
   "mimetype": "text/x-python",
   "name": "python",
   "nbconvert_exporter": "python",
   "pygments_lexer": "ipython3",
   "version": "3.11.0"
  }
 },
 "nbformat": 4,
 "nbformat_minor": 5
}
