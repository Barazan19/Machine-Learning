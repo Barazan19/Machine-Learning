{
 "cells": [
  {
   "cell_type": "markdown",
   "id": "c0370503",
   "metadata": {},
   "source": [
    "# 🧾 Explanation on Confussion Matrix, Precission, Recall, and F1 Scores using Insurance Claim Classification with Logistic Regression"
   ]
  },
  {
   "cell_type": "code",
   "execution_count": null,
   "id": "c7483d6b",
   "metadata": {},
   "outputs": [
    {
     "data": {
      "text/html": [
       "<div>\n",
       "<style scoped>\n",
       "    .dataframe tbody tr th:only-of-type {\n",
       "        vertical-align: middle;\n",
       "    }\n",
       "\n",
       "    .dataframe tbody tr th {\n",
       "        vertical-align: top;\n",
       "    }\n",
       "\n",
       "    .dataframe thead th {\n",
       "        text-align: right;\n",
       "    }\n",
       "</style>\n",
       "<table border=\"1\" class=\"dataframe\">\n",
       "  <thead>\n",
       "    <tr style=\"text-align: right;\">\n",
       "      <th></th>\n",
       "      <th>Age</th>\n",
       "      <th>Sex</th>\n",
       "      <th>Smoker</th>\n",
       "      <th>BMI</th>\n",
       "      <th>Sport</th>\n",
       "      <th>Claim</th>\n",
       "    </tr>\n",
       "  </thead>\n",
       "  <tbody>\n",
       "    <tr>\n",
       "      <th>0</th>\n",
       "      <td>56</td>\n",
       "      <td>0</td>\n",
       "      <td>0</td>\n",
       "      <td>31.6</td>\n",
       "      <td>1</td>\n",
       "      <td>0</td>\n",
       "    </tr>\n",
       "    <tr>\n",
       "      <th>1</th>\n",
       "      <td>46</td>\n",
       "      <td>1</td>\n",
       "      <td>0</td>\n",
       "      <td>25.1</td>\n",
       "      <td>1</td>\n",
       "      <td>0</td>\n",
       "    </tr>\n",
       "    <tr>\n",
       "      <th>2</th>\n",
       "      <td>32</td>\n",
       "      <td>0</td>\n",
       "      <td>0</td>\n",
       "      <td>24.3</td>\n",
       "      <td>0</td>\n",
       "      <td>0</td>\n",
       "    </tr>\n",
       "    <tr>\n",
       "      <th>3</th>\n",
       "      <td>60</td>\n",
       "      <td>1</td>\n",
       "      <td>1</td>\n",
       "      <td>32.4</td>\n",
       "      <td>1</td>\n",
       "      <td>0</td>\n",
       "    </tr>\n",
       "    <tr>\n",
       "      <th>4</th>\n",
       "      <td>25</td>\n",
       "      <td>1</td>\n",
       "      <td>0</td>\n",
       "      <td>18.9</td>\n",
       "      <td>0</td>\n",
       "      <td>0</td>\n",
       "    </tr>\n",
       "  </tbody>\n",
       "</table>\n",
       "</div>"
      ],
      "text/plain": [
       "   Age  Sex  Smoker   BMI  Sport  Claim\n",
       "0   56    0       0  31.6      1      0\n",
       "1   46    1       0  25.1      1      0\n",
       "2   32    0       0  24.3      0      0\n",
       "3   60    1       1  32.4      1      0\n",
       "4   25    1       0  18.9      0      0"
      ]
     },
     "execution_count": 10,
     "metadata": {},
     "output_type": "execute_result"
    }
   ],
   "source": [
    "import pandas as pd\n",
    "import numpy as np\n",
    "from sklearn.model_selection import train_test_split, cross_val_predict, StratifiedKFold\n",
    "from sklearn.linear_model import LogisticRegression\n",
    "from sklearn.metrics import confusion_matrix, classification_report\n",
    "from sklearn.preprocessing import LabelEncoder\n",
    "import seaborn as sns\n",
    "import matplotlib.pyplot as plt\n",
    "\n",
    "# Generate synthetic insurance data\n",
    "np.random.seed(42)\n",
    "n = 200\n",
    "ages = np.random.randint(18, 65, size=n)\n",
    "sexes = np.random.choice(['male', 'female'], size=n)\n",
    "smokers = np.random.choice(['yes', 'no'], size=n, p=[0.3, 0.7])\n",
    "bmis = np.round(np.random.normal(27, 4, size=n), 1)\n",
    "sports = np.random.choice(['yes', 'no'], size=n, p=[0.4, 0.6])\n",
    "\n",
    "df = pd.read_csv(\"Insurance_Dummy_Dataset.csv\")\n",
    "df.head()"
   ]
  },
  {
   "cell_type": "code",
   "execution_count": 11,
   "id": "514dfa56",
   "metadata": {},
   "outputs": [],
   "source": [
    "X = df[['Age', 'Sex', 'Smoker', 'BMI', 'Sport']]\n",
    "y = df['Claim']\n",
    "X_train, X_test, y_train, y_test = train_test_split(X, y, test_size=0.2, stratify=y, random_state=42)\n",
    "\n",
    "cv = StratifiedKFold(n_splits=5, shuffle=True, random_state=42)\n",
    "model = LogisticRegression(max_iter=1000)\n",
    "y_pred_cv = cross_val_predict(model, X_train, y_train, cv=cv)\n",
    "model.fit(X_train, y_train)\n",
    "y_pred_test = model.predict(X_test)"
   ]
  },
  {
   "cell_type": "code",
   "execution_count": 12,
   "id": "b9655b1f",
   "metadata": {},
   "outputs": [
    {
     "data": {
      "image/png": "[encoded data removed]",
      "text/plain": [
       "<Figure size 640x480 with 2 Axes>"
      ]
     },
     "metadata": {},
     "output_type": "display_data"
    }
   ],
   "source": [
    "cm = confusion_matrix(y_test, y_pred_test)\n",
    "sns.heatmap(cm, annot=True, fmt='d', cmap='Blues')\n",
    "plt.xlabel(\"Predicted Label\")\n",
    "plt.ylabel(\"True Label\")\n",
    "plt.title(\"Confusion Matrix (Test Set)\")\n",
    "plt.show()"
   ]
  },
  {
   "cell_type": "code",
   "execution_count": 13,
   "id": "71c4eaa7",
   "metadata": {},
   "outputs": [
    {
     "data": {
      "text/html": [
       "<div>\n",
       "<style scoped>\n",
       "    .dataframe tbody tr th:only-of-type {\n",
       "        vertical-align: middle;\n",
       "    }\n",
       "\n",
       "    .dataframe tbody tr th {\n",
       "        vertical-align: top;\n",
       "    }\n",
       "\n",
       "    .dataframe thead th {\n",
       "        text-align: right;\n",
       "    }\n",
       "</style>\n",
       "<table border=\"1\" class=\"dataframe\">\n",
       "  <thead>\n",
       "    <tr style=\"text-align: right;\">\n",
       "      <th></th>\n",
       "      <th>precision</th>\n",
       "      <th>recall</th>\n",
       "      <th>f1-score</th>\n",
       "      <th>support</th>\n",
       "    </tr>\n",
       "  </thead>\n",
       "  <tbody>\n",
       "    <tr>\n",
       "      <th>0</th>\n",
       "      <td>0.666667</td>\n",
       "      <td>0.916667</td>\n",
       "      <td>0.771930</td>\n",
       "      <td>24.000</td>\n",
       "    </tr>\n",
       "    <tr>\n",
       "      <th>1</th>\n",
       "      <td>0.714286</td>\n",
       "      <td>0.312500</td>\n",
       "      <td>0.434783</td>\n",
       "      <td>16.000</td>\n",
       "    </tr>\n",
       "    <tr>\n",
       "      <th>accuracy</th>\n",
       "      <td>0.675000</td>\n",
       "      <td>0.675000</td>\n",
       "      <td>0.675000</td>\n",
       "      <td>0.675</td>\n",
       "    </tr>\n",
       "    <tr>\n",
       "      <th>macro avg</th>\n",
       "      <td>0.690476</td>\n",
       "      <td>0.614583</td>\n",
       "      <td>0.603356</td>\n",
       "      <td>40.000</td>\n",
       "    </tr>\n",
       "    <tr>\n",
       "      <th>weighted avg</th>\n",
       "      <td>0.685714</td>\n",
       "      <td>0.675000</td>\n",
       "      <td>0.637071</td>\n",
       "      <td>40.000</td>\n",
       "    </tr>\n",
       "  </tbody>\n",
       "</table>\n",
       "</div>"
      ],
      "text/plain": [
       "              precision    recall  f1-score  support\n",
       "0              0.666667  0.916667  0.771930   24.000\n",
       "1              0.714286  0.312500  0.434783   16.000\n",
       "accuracy       0.675000  0.675000  0.675000    0.675\n",
       "macro avg      0.690476  0.614583  0.603356   40.000\n",
       "weighted avg   0.685714  0.675000  0.637071   40.000"
      ]
     },
     "execution_count": 13,
     "metadata": {},
     "output_type": "execute_result"
    }
   ],
   "source": [
    "report = classification_report(y_test, y_pred_test, output_dict=True)\n",
    "pd.DataFrame(report).transpose()"
   ]
  },
  {
   "cell_type": "code",
   "execution_count": 14,
   "id": "1891810d",
   "metadata": {},
   "outputs": [
    {
     "name": "stdout",
     "output_type": "stream",
     "text": [
      "AUC Score: 0.672\n",
      "Optimal Threshold: 0.430\n"
     ]
    },
    {
     "data": {
      "image/png": "[encoded data removed]",
      "text/plain": [
       "<Figure size 800x600 with 1 Axes>"
      ]
     },
     "metadata": {},
     "output_type": "display_data"
    },
    {
     "name": "stdout",
     "output_type": "stream",
     "text": [
      "Precision: 0.643\n",
      "Recall: 0.562\n",
      "F1-Score: 0.600\n"
     ]
    },
    {
     "data": {
      "image/png": "[encoded data removed]",
      "text/plain": [
       "<Figure size 640x480 with 2 Axes>"
      ]
     },
     "metadata": {},
     "output_type": "display_data"
    }
   ],
   "source": [
    "from sklearn.metrics import roc_curve, roc_auc_score, precision_score, recall_score, f1_score, confusion_matrix, ConfusionMatrixDisplay\n",
    "import matplotlib.pyplot as plt\n",
    "\n",
    "# 1. Fit model & prediksi probabilitas\n",
    "model.fit(X_train, y_train)\n",
    "y_proba_test = model.predict_proba(X_test)[:, 1]\n",
    "\n",
    "# 2. ROC curve & AUC\n",
    "fpr, tpr, thresholds = roc_curve(y_test, y_proba_test)\n",
    "auc_score = roc_auc_score(y_test, y_proba_test)\n",
    "\n",
    "# 3. Threshold optimal (Youden’s J statistic)\n",
    "youden_j = tpr - fpr\n",
    "optimal_idx = np.argmax(youden_j)\n",
    "optimal_threshold = thresholds[optimal_idx]\n",
    "print(f\"AUC Score: {auc_score:.3f}\")\n",
    "print(f\"Optimal Threshold: {optimal_threshold:.3f}\")\n",
    "\n",
    "# 4. Plot ROC Curve\n",
    "plt.figure(figsize=(8, 6))\n",
    "plt.plot(fpr, tpr, label=f\"ROC Curve (AUC = {auc_score:.2f})\")\n",
    "plt.scatter(fpr[optimal_idx], tpr[optimal_idx], color='red', label=f\"Optimal Threshold = {optimal_threshold:.2f}\")\n",
    "plt.plot([0, 1], [0, 1], 'k--')\n",
    "plt.xlabel(\"False Positive Rate\")\n",
    "plt.ylabel(\"True Positive Rate\")\n",
    "plt.title(\"ROC Curve\")\n",
    "plt.legend()\n",
    "plt.grid(True)\n",
    "plt.show()\n",
    "\n",
    "# 5. Buat prediksi berdasarkan threshold optimal\n",
    "y_pred_optimal = (y_proba_test >= optimal_threshold).astype(int)\n",
    "\n",
    "# 6. Evaluasi: Precision, Recall, F1-Score\n",
    "precision = precision_score(y_test, y_pred_optimal)\n",
    "recall = recall_score(y_test, y_pred_optimal)\n",
    "f1 = f1_score(y_test, y_pred_optimal)\n",
    "print(f\"Precision: {precision:.3f}\")\n",
    "print(f\"Recall: {recall:.3f}\")\n",
    "print(f\"F1-Score: {f1:.3f}\")\n",
    "\n",
    "# 7. Confusion Matrix (threshold optimal)\n",
    "cm = confusion_matrix(y_test, y_pred_optimal)\n",
    "disp = ConfusionMatrixDisplay(confusion_matrix=cm, display_labels=model.classes_)\n",
    "disp.plot(cmap=plt.cm.Blues)\n",
    "plt.title(f\"Confusion Matrix (Threshold = {optimal_threshold:.2f})\")\n",
    "plt.show()\n"
   ]
  },
  {
   "cell_type": "code",
   "execution_count": 15,
   "id": "d87db4f6",
   "metadata": {},
   "outputs": [
    {
     "data": {
      "text/html": [
       "<div>\n",
       "<style scoped>\n",
       "    .dataframe tbody tr th:only-of-type {\n",
       "        vertical-align: middle;\n",
       "    }\n",
       "\n",
       "    .dataframe tbody tr th {\n",
       "        vertical-align: top;\n",
       "    }\n",
       "\n",
       "    .dataframe thead th {\n",
       "        text-align: right;\n",
       "    }\n",
       "</style>\n",
       "<table border=\"1\" class=\"dataframe\">\n",
       "  <thead>\n",
       "    <tr style=\"text-align: right;\">\n",
       "      <th></th>\n",
       "      <th>precision</th>\n",
       "      <th>recall</th>\n",
       "      <th>f1-score</th>\n",
       "      <th>support</th>\n",
       "    </tr>\n",
       "  </thead>\n",
       "  <tbody>\n",
       "    <tr>\n",
       "      <th>0</th>\n",
       "      <td>0.730769</td>\n",
       "      <td>0.791667</td>\n",
       "      <td>0.760</td>\n",
       "      <td>24.0</td>\n",
       "    </tr>\n",
       "    <tr>\n",
       "      <th>1</th>\n",
       "      <td>0.642857</td>\n",
       "      <td>0.562500</td>\n",
       "      <td>0.600</td>\n",
       "      <td>16.0</td>\n",
       "    </tr>\n",
       "    <tr>\n",
       "      <th>accuracy</th>\n",
       "      <td>0.700000</td>\n",
       "      <td>0.700000</td>\n",
       "      <td>0.700</td>\n",
       "      <td>0.7</td>\n",
       "    </tr>\n",
       "    <tr>\n",
       "      <th>macro avg</th>\n",
       "      <td>0.686813</td>\n",
       "      <td>0.677083</td>\n",
       "      <td>0.680</td>\n",
       "      <td>40.0</td>\n",
       "    </tr>\n",
       "    <tr>\n",
       "      <th>weighted avg</th>\n",
       "      <td>0.695604</td>\n",
       "      <td>0.700000</td>\n",
       "      <td>0.696</td>\n",
       "      <td>40.0</td>\n",
       "    </tr>\n",
       "  </tbody>\n",
       "</table>\n",
       "</div>"
      ],
      "text/plain": [
       "              precision    recall  f1-score  support\n",
       "0              0.730769  0.791667     0.760     24.0\n",
       "1              0.642857  0.562500     0.600     16.0\n",
       "accuracy       0.700000  0.700000     0.700      0.7\n",
       "macro avg      0.686813  0.677083     0.680     40.0\n",
       "weighted avg   0.695604  0.700000     0.696     40.0"
      ]
     },
     "execution_count": 15,
     "metadata": {},
     "output_type": "execute_result"
    }
   ],
   "source": [
    "report = classification_report(y_test, y_pred_optimal, output_dict=True)\n",
    "pd.DataFrame(report).transpose()"
   ]
  },
  {
   "cell_type": "markdown",
   "id": "7b9832d9",
   "metadata": {},
   "source": [
    "## 🧠 How We Improved Accuracy Using ROC Curve and Optimal Threshold\n",
    "\n",
    "In our original classification using Logistic Regression, we relied on the **default probability threshold of 0.5** to classify whether a user would make an insurance claim or not. However, this default is not always optimal, especially when the class distribution is imbalanced or when false positives and false negatives carry different costs.\n",
    "\n",
    "### 🚀 ROC Curve to the Rescue\n",
    "\n",
    "To improve the model, we implemented **Receiver Operating Characteristic (ROC) analysis)**:\n",
    "\n",
    "- **ROC Curve** plots the trade-off between:\n",
    "  - **True Positive Rate (Recall)**\n",
    "  - **False Positive Rate**\n",
    "\n",
    "...for various classification thresholds.\n",
    "\n",
    "- **AUC (Area Under Curve)** quantifies the model's ability to distinguish between classes. In our case, the AUC was **0.67**, indicating moderate performance.\n",
    "\n",
    "- Instead of using the default threshold of 0.5, we searched for the **optimal threshold** by maximizing **Youden’s J statistic** (*TPR - FPR*), which balances sensitivity and specificity.\n",
    "\n",
    "### 🎯 Optimal Threshold\n",
    "\n",
    "From the ROC analysis, the **optimal threshold was 0.43**.\n",
    "\n",
    "This means: if the predicted probability of a claim is greater than **43%**, we classify it as a claim.\n",
    "\n",
    "### ✅ Results\n",
    "\n",
    "| Threshold       | Accuracy |\n",
    "|-----------------|----------|\n",
    "| 0.50 (default)  | 67.5%    |\n",
    "| 0.43 (optimal)  | 70.0%    |\n",
    "\n",
    "By simply adjusting the decision threshold using ROC analysis, we were able to **boost the model's accuracy by 2.5%**, while also potentially improving other metrics like **recall** and **F1-score** — critical in domains like insurance risk.\n",
    "\n",
    "---\n",
    "\n",
    "### 🛠 Code Reference\n",
    "\n",
    "This implementation is available in the notebook section titled:\n",
    "\n",
    "**ROC"
   ]
  },
  {
   "cell_type": "markdown",
   "id": "802a10df",
   "metadata": {},
   "source": []
  }
 ],
 "metadata": {
  "kernelspec": {
   "display_name": "Python 3",
   "language": "python",
   "name": "python3"
  },
  "language_info": {
   "codemirror_mode": {
    "name": "ipython",
    "version": 3
   },
   "file_extension": ".py",
   "mimetype": "text/x-python",
   "name": "python",
   "nbconvert_exporter": "python",
   "pygments_lexer": "ipython3",
   "version": "3.11.0"
  }
 },
 "nbformat": 4,
 "nbformat_minor": 5
}
