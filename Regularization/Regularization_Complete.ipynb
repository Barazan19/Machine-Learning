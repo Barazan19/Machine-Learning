{
 "cells": [
  {
   "cell_type": "markdown",
   "id": "d0aa72df",
   "metadata": {},
   "source": [
    "# 🧠 Ridge and Lasso Regularization in Linear Regression\n",
    "\n",
    "This notebook covers end-to-end understanding of regularization in linear regression, including:\n",
    "- Linear Regression without regularization\n",
    "- Overfitting and high variance\n",
    "- L2 Regularization (Ridge) and L1 Regularization (Lasso)\n",
    "- Concept and effect of `alpha`\n",
    "- Coordinate descent, z_j and soft-thresholding\n",
    "- Finding best alpha using cross-validation\n",
    "- Visuals and code implementations"
   ]
  },
  {
   "cell_type": "markdown",
   "id": "9822e228",
   "metadata": {},
   "source": [
    "## ❓ What is Regularization?\n",
    "\n",
    "Regularization helps prevent **overfitting** in linear regression by penalizing large coefficients.\n",
    "Two types:\n",
    "- **L2 (Ridge)**: adds \\( \\lambda \\sum \\beta_j^2 \\) to the loss\n",
    "- **L1 (Lasso)**: adds \\( \\lambda \\sum |\\beta_j| \\) to the loss\n",
    "\n",
    "The loss functions become:\n",
    "- **Ridge**: \\( \\text{Loss} = \\sum (y_i - \\hat{y}_i)^2 + \\lambda \\sum \\beta_j^2 \\)\n",
    "- **Lasso**: \\( \\text{Loss} = \\sum (y_i - \\hat{y}_i)^2 + \\lambda \\sum |\\beta_j| \\)\n",
    "\n",
    "`alpha` (or λ) controls the strength of regularization. Higher alpha means more penalty."
   ]
  },
  {
   "cell_type": "code",
   "execution_count": null,
   "id": "d3de190f",
   "metadata": {},
   "outputs": [],
   "source": [
    "import pandas as pd\n",
    "import numpy as np\n",
    "from sklearn.model_selection import train_test_split\n",
    "from sklearn.linear_model import LinearRegression, Ridge, Lasso, LassoCV, RidgeCV\n",
    "from sklearn.preprocessing import StandardScaler\n",
    "from sklearn.metrics import mean_squared_error\n",
    "import matplotlib.pyplot as plt\n",
    "\n",
    "df = pd.read_csv('insurance.csv')\n",
    "df_encoded = pd.get_dummies(df, drop_first=True)\n",
    "X = df_encoded.drop('charges', axis=1)\n",
    "y = df_encoded['charges']"
   ]
  },
  {
   "cell_type": "code",
   "execution_count": null,
   "id": "6bd8cab0",
   "metadata": {},
   "outputs": [],
   "source": [
    "X_train, X_test, y_train, y_test = train_test_split(X, y, test_size=0.2, random_state=42)\n",
    "scaler = StandardScaler()\n",
    "X_train_scaled = scaler.fit_transform(X_train)\n",
    "X_test_scaled = scaler.transform(X_test)"
   ]
  },
  {
   "cell_type": "code",
   "execution_count": null,
   "id": "15b6df0f",
   "metadata": {},
   "outputs": [],
   "source": [
    "# Ridge and Lasso with fixed alpha (before CV tuning)\n",
    "ridge_fixed = Ridge(alpha=100)\n",
    "ridge_fixed.fit(X_train_scaled, y_train)\n",
    "mse_ridge_fixed = mean_squared_error(y_test, ridge_fixed.predict(X_test_scaled))\n",
    "\n",
    "lasso_fixed = Lasso(alpha=100, max_iter=10000)\n",
    "lasso_fixed.fit(X_train_scaled, y_train)\n",
    "mse_lasso_fixed = mean_squared_error(y_test, lasso_fixed.predict(X_test_scaled))\n",
    "\n",
    "print(f\"Ridge (fixed alpha=100) MSE: {mse_ridge_fixed:.2f}\")\n",
    "print(f\"Lasso (fixed alpha=100) MSE: {mse_lasso_fixed:.2f}\")"
   ]
  },
  {
   "cell_type": "code",
   "execution_count": null,
   "id": "63715314",
   "metadata": {},
   "outputs": [],
   "source": [
    "lr = LinearRegression()\n",
    "lr.fit(X_train_scaled, y_train)\n",
    "mse_lr = mean_squared_error(y_test, lr.predict(X_test_scaled))\n",
    "print(f\"Linear Regression MSE: {mse_lr:.2f}\")"
   ]
  },
  {
   "cell_type": "markdown",
   "id": "4dd1f39f",
   "metadata": {},
   "source": [
    "## 🔍 RidgeCV and LassoCV - Finding the best alpha\n",
    "\n",
    "`RidgeCV` and `LassoCV` use cross-validation to select the optimal `alpha` value that minimizes error.\n",
    "\n",
    "**Why use CV?**\n",
    "Manual alpha tuning is hard. Cross-validation tests multiple alpha values and picks the best.\n"
   ]
  },
  {
   "cell_type": "code",
   "execution_count": null,
   "id": "f9976eb1",
   "metadata": {},
   "outputs": [],
   "source": [
    "alphas = [0.1, 1, 10, 100, 500, 1000]\n",
    "\n",
    "ridge_cv = RidgeCV(alphas=alphas, scoring='neg_mean_squared_error', cv=5)\n",
    "ridge_cv.fit(X_train_scaled, y_train)\n",
    "\n",
    "lasso_cv = LassoCV(alphas=alphas, max_iter=10000, cv=5)\n",
    "lasso_cv.fit(X_train_scaled, y_train)\n",
    "\n",
    "print(f\"Best alpha for Ridge: {ridge_cv.alpha_}\")\n",
    "print(f\"Best alpha for Lasso: {lasso_cv.alpha_}\")"
   ]
  },
  {
   "cell_type": "code",
   "execution_count": null,
   "id": "5536f2df",
   "metadata": {},
   "outputs": [],
   "source": [
    "mse_ridge = mean_squared_error(y_test, ridge_cv.predict(X_test_scaled))\n",
    "mse_lasso = mean_squared_error(y_test, lasso_cv.predict(X_test_scaled))\n",
    "\n",
    "print(f\"RidgeCV MSE: {mse_ridge:.2f}\")\n",
    "print(f\"LassoCV MSE: {mse_lasso:.2f}\")"
   ]
  },
  {
   "cell_type": "markdown",
   "id": "8a1b3548",
   "metadata": {},
   "source": [
    "## 🧮 Understanding z_j in Coordinate Descent\n",
    "\n",
    "- z_j = correlation between feature j and residuals\n",
    "- In Lasso, if |z_j| < alpha → beta_j = 0\n",
    "\n",
    "This is how Lasso performs automatic feature selection."
   ]
  },
  {
   "cell_type": "code",
   "execution_count": null,
   "id": "5ecadf93",
   "metadata": {},
   "outputs": [],
   "source": [
    "residuals = y_train - lasso_cv.predict(X_train_scaled)\n",
    "X_df = pd.DataFrame(X_train_scaled, columns=X.columns)\n",
    "z_j = X_df.mul(residuals.values.reshape(-1, 1), axis=0).sum()\n",
    "\n",
    "coef_df = pd.DataFrame({\n",
    "    'Feature': X.columns,\n",
    "    'z_j': z_j.values,\n",
    "    'Lasso Coefficient': lasso_cv.coef_\n",
    "}).sort_values(by='z_j', key=abs, ascending=False)\n",
    "display(coef_df)"
   ]
  }
 ],
 "metadata": {},
 "nbformat": 4,
 "nbformat_minor": 5
}
