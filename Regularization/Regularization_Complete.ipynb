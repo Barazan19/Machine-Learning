{
 "cells": [
  {
   "cell_type": "markdown",
   "id": "d0aa72df",
   "metadata": {},
   "source": [
    "# 🧠 Ridge and Lasso Regularization in Linear Regression\n",
    "\n",
    "This notebook covers end-to-end understanding of regularization in linear regression, including:\n",
    "- Linear Regression without regularization\n",
    "- Overfitting and high variance\n",
    "- L2 Regularization (Ridge) and L1 Regularization (Lasso)\n",
    "- Concept and effect of `alpha`\n",
    "- Coordinate descent, z_j and soft-thresholding\n",
    "- Finding best alpha using cross-validation\n",
    "- Visuals and code implementations"
   ]
  },
  {
   "cell_type": "markdown",
   "id": "9822e228",
   "metadata": {},
   "source": [
    "## ❓ What is Regularization?\n",
    "\n",
    "Regularization helps prevent **overfitting** in linear regression by penalizing large coefficients.\n",
    "Two types:\n",
    "- **L2 (Ridge)**: adds \\( \\lambda \\sum \\beta_j^2 \\) to the loss\n",
    "- **L1 (Lasso)**: adds \\( \\lambda \\sum |\\beta_j| \\) to the loss\n",
    "\n",
    "The loss functions become:\n",
    "- **Ridge**: \\( \\text{Loss} = \\sum (y_i - \\hat{y}_i)^2 + \\lambda \\sum \\beta_j^2 \\)\n",
    "- **Lasso**: \\( \\text{Loss} = \\sum (y_i - \\hat{y}_i)^2 + \\lambda \\sum |\\beta_j| \\)\n",
    "\n",
    "`alpha` (or λ) controls the strength of regularization. Higher alpha means more penalty."
   ]
  },
  {
   "cell_type": "code",
   "execution_count": 1,
   "id": "d3de190f",
   "metadata": {},
   "outputs": [],
   "source": [
    "import pandas as pd\n",
    "import numpy as np\n",
    "from sklearn.model_selection import train_test_split\n",
    "from sklearn.linear_model import LinearRegression, Ridge, Lasso, LassoCV, RidgeCV\n",
    "from sklearn.preprocessing import StandardScaler\n",
    "from sklearn.metrics import mean_squared_error\n",
    "import matplotlib.pyplot as plt\n",
    "\n",
    "df = pd.read_csv('insurance.csv')\n",
    "df_encoded = pd.get_dummies(df, drop_first=True)\n",
    "X = df_encoded.drop('charges', axis=1)\n",
    "y = df_encoded['charges']"
   ]
  },
  {
   "cell_type": "code",
   "execution_count": 2,
   "id": "6bd8cab0",
   "metadata": {},
   "outputs": [],
   "source": [
    "X_train, X_test, y_train, y_test = train_test_split(X, y, test_size=0.2, random_state=42)\n",
    "scaler = StandardScaler()\n",
    "X_train_scaled = scaler.fit_transform(X_train)\n",
    "X_test_scaled = scaler.transform(X_test)"
   ]
  },
  {
   "cell_type": "code",
   "execution_count": 3,
   "id": "b1ce7bb7",
   "metadata": {},
   "outputs": [
    {
     "name": "stdout",
     "output_type": "stream",
     "text": [
      "Linear Regression MSE: 33596915.85\n"
     ]
    }
   ],
   "source": [
    "lr = LinearRegression()\n",
    "lr.fit(X_train_scaled, y_train)\n",
    "mse_lr = mean_squared_error(y_test, lr.predict(X_test_scaled))\n",
    "print(f\"Linear Regression MSE: {mse_lr:.2f}\")"
   ]
  },
  {
   "cell_type": "code",
   "execution_count": 4,
   "id": "15b6df0f",
   "metadata": {},
   "outputs": [
    {
     "name": "stdout",
     "output_type": "stream",
     "text": [
      "Ridge (fixed alpha=100) MSE: 35176302.32\n",
      "Lasso (fixed alpha=100) MSE: 34056599.87\n"
     ]
    }
   ],
   "source": [
    "# Ridge and Lasso with fixed alpha (before CV tuning)\n",
    "ridge_fixed = Ridge(alpha=100)\n",
    "ridge_fixed.fit(X_train_scaled, y_train)\n",
    "mse_ridge_fixed = mean_squared_error(y_test, ridge_fixed.predict(X_test_scaled))\n",
    "\n",
    "lasso_fixed = Lasso(alpha=100, max_iter=10000)\n",
    "lasso_fixed.fit(X_train_scaled, y_train)\n",
    "mse_lasso_fixed = mean_squared_error(y_test, lasso_fixed.predict(X_test_scaled))\n",
    "\n",
    "print(f\"Ridge (fixed alpha=100) MSE: {mse_ridge_fixed:.2f}\")\n",
    "print(f\"Lasso (fixed alpha=100) MSE: {mse_lasso_fixed:.2f}\")"
   ]
  },
  {
   "cell_type": "markdown",
   "id": "6f2ccf88",
   "metadata": {},
   "source": [
    "## 🔍 Why Ridge/Lasso Are Still Important?\n",
    "\n",
    "You might ask:  \n",
    "**\"If Linear Regression has the lowest MSE (33 linear regression compared to 34 ridge and 35 lasso), why bother using Ridge or Lasso?\"**\n",
    "\n",
    "Here’s why:\n",
    "\n",
    "### 1. Linear Regression can overfit when you have many features\n",
    "\n",
    "- More features → higher risk of fitting noise, not the true signal\n",
    "- Linear Regression has **no built-in protection** against overfitting\n",
    "- It's likely to perform poorly on unseen or future data\n",
    "\n",
    "### 2. Ridge & Lasso apply penalties (regularization)\n",
    "\n",
    "- **Ridge (L2)**: Penalizes large coefficients → keeps model stable\n",
    "- **Lasso (L1)**: Penalizes absolute value → can shrink some coefficients to **exactly zero**\n",
    "    - This acts as **automatic feature selection**\n",
    "- These are very helpful when working with **dozens or hundreds of features**\n",
    "\n",
    "### 3. Regularization improves generalization to new data\n",
    "\n",
    "- Regularized models are typically more **robust** when applied to new, unseen datasets\n",
    "- Linear Regression might look great now, but its performance can **drop during deployment**\n"
   ]
  },
  {
   "cell_type": "markdown",
   "id": "4dd1f39f",
   "metadata": {},
   "source": [
    "## 🔍 RidgeCV and LassoCV - Finding the best alpha\n",
    "\n",
    "`RidgeCV` and `LassoCV` use cross-validation to select the optimal `alpha` value that minimizes error.\n",
    "\n",
    "**Why use CV?**\n",
    "Manual alpha tuning is hard. Cross-validation tests multiple alpha values and picks the best.\n"
   ]
  },
  {
   "cell_type": "code",
   "execution_count": 5,
   "id": "f9976eb1",
   "metadata": {},
   "outputs": [
    {
     "name": "stdout",
     "output_type": "stream",
     "text": [
      "Best alpha for Ridge: 10.0\n",
      "Best alpha for Lasso: 100.0\n"
     ]
    }
   ],
   "source": [
    "alphas = [0.1, 1, 10, 100, 500, 1000]\n",
    "\n",
    "ridge_cv = RidgeCV(alphas=alphas, scoring='neg_mean_squared_error', cv=5)\n",
    "ridge_cv.fit(X_train_scaled, y_train)\n",
    "\n",
    "lasso_cv = LassoCV(alphas=alphas, max_iter=10000, cv=5)\n",
    "lasso_cv.fit(X_train_scaled, y_train)\n",
    "\n",
    "print(f\"Best alpha for Ridge: {ridge_cv.alpha_}\")\n",
    "print(f\"Best alpha for Lasso: {lasso_cv.alpha_}\")"
   ]
  },
  {
   "cell_type": "code",
   "execution_count": 6,
   "id": "5536f2df",
   "metadata": {},
   "outputs": [
    {
     "name": "stdout",
     "output_type": "stream",
     "text": [
      "RidgeCV MSE: 33685862.86\n",
      "LassoCV MSE: 34056599.87\n"
     ]
    }
   ],
   "source": [
    "mse_ridge = mean_squared_error(y_test, ridge_cv.predict(X_test_scaled))\n",
    "mse_lasso = mean_squared_error(y_test, lasso_cv.predict(X_test_scaled))\n",
    "\n",
    "print(f\"RidgeCV MSE: {mse_ridge:.2f}\")\n",
    "print(f\"LassoCV MSE: {mse_lasso:.2f}\")"
   ]
  },
  {
   "cell_type": "markdown",
   "id": "8a1b3548",
   "metadata": {},
   "source": [
    "## 🧮 Understanding z_j in Coordinate Descent\n",
    "\n",
    "- z_j = correlation between feature j and residuals\n",
    "- In Lasso, if |z_j| < alpha → beta_j = 0\n",
    "\n",
    "This is how Lasso performs automatic feature selection."
   ]
  },
  {
   "cell_type": "code",
   "execution_count": 7,
   "id": "5ecadf93",
   "metadata": {},
   "outputs": [
    {
     "data": {
      "text/html": [
       "<div>\n",
       "<style scoped>\n",
       "    .dataframe tbody tr th:only-of-type {\n",
       "        vertical-align: middle;\n",
       "    }\n",
       "\n",
       "    .dataframe tbody tr th {\n",
       "        vertical-align: top;\n",
       "    }\n",
       "\n",
       "    .dataframe thead th {\n",
       "        text-align: right;\n",
       "    }\n",
       "</style>\n",
       "<table border=\"1\" class=\"dataframe\">\n",
       "  <thead>\n",
       "    <tr style=\"text-align: right;\">\n",
       "      <th></th>\n",
       "      <th>Feature</th>\n",
       "      <th>z_j</th>\n",
       "      <th>Lasso Coefficient</th>\n",
       "    </tr>\n",
       "  </thead>\n",
       "  <tbody>\n",
       "    <tr>\n",
       "      <th>1</th>\n",
       "      <td>bmi</td>\n",
       "      <td>107069.446788</td>\n",
       "      <td>1892.789994</td>\n",
       "    </tr>\n",
       "    <tr>\n",
       "      <th>6</th>\n",
       "      <td>region_southeast</td>\n",
       "      <td>-107031.607675</td>\n",
       "      <td>-15.589796</td>\n",
       "    </tr>\n",
       "    <tr>\n",
       "      <th>4</th>\n",
       "      <td>smoker_yes</td>\n",
       "      <td>107011.138590</td>\n",
       "      <td>9453.068030</td>\n",
       "    </tr>\n",
       "    <tr>\n",
       "      <th>7</th>\n",
       "      <td>region_southwest</td>\n",
       "      <td>-107000.000000</td>\n",
       "      <td>-104.379764</td>\n",
       "    </tr>\n",
       "    <tr>\n",
       "      <th>2</th>\n",
       "      <td>children</td>\n",
       "      <td>106992.118403</td>\n",
       "      <td>424.978753</td>\n",
       "    </tr>\n",
       "    <tr>\n",
       "      <th>0</th>\n",
       "      <td>age</td>\n",
       "      <td>106953.876733</td>\n",
       "      <td>3528.802468</td>\n",
       "    </tr>\n",
       "    <tr>\n",
       "      <th>3</th>\n",
       "      <td>sex_male</td>\n",
       "      <td>4473.408170</td>\n",
       "      <td>0.000000</td>\n",
       "    </tr>\n",
       "    <tr>\n",
       "      <th>5</th>\n",
       "      <td>region_northwest</td>\n",
       "      <td>-2797.320238</td>\n",
       "      <td>-0.000000</td>\n",
       "    </tr>\n",
       "  </tbody>\n",
       "</table>\n",
       "</div>"
      ],
      "text/plain": [
       "            Feature            z_j  Lasso Coefficient\n",
       "1               bmi  107069.446788        1892.789994\n",
       "6  region_southeast -107031.607675         -15.589796\n",
       "4        smoker_yes  107011.138590        9453.068030\n",
       "7  region_southwest -107000.000000        -104.379764\n",
       "2          children  106992.118403         424.978753\n",
       "0               age  106953.876733        3528.802468\n",
       "3          sex_male    4473.408170           0.000000\n",
       "5  region_northwest   -2797.320238          -0.000000"
      ]
     },
     "metadata": {},
     "output_type": "display_data"
    }
   ],
   "source": [
    "residuals = y_train - lasso_cv.predict(X_train_scaled)\n",
    "X_df = pd.DataFrame(X_train_scaled, columns=X.columns)\n",
    "z_j = X_df.mul(residuals.values.reshape(-1, 1), axis=0).sum()\n",
    "\n",
    "coef_df = pd.DataFrame({\n",
    "    'Feature': X.columns,\n",
    "    'z_j': z_j.values,\n",
    "    'Lasso Coefficient': lasso_cv.coef_\n",
    "}).sort_values(by='z_j', key=abs, ascending=False)\n",
    "display(coef_df)"
   ]
  }
 ],
 "metadata": {
  "language_info": {
   "name": "python"
  }
 },
 "nbformat": 4,
 "nbformat_minor": 5
}
