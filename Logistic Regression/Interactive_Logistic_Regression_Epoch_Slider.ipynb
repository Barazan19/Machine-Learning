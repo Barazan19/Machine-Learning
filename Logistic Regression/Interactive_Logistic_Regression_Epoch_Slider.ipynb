{
 "cells": [
  {
   "cell_type": "markdown",
   "id": "bf40f15b",
   "metadata": {},
   "source": [
    "# Interactive Logistic Regression Training Viewer (Slider by Epoch)\n",
    "This notebook shows how the sigmoid curve evolves during training by sliding through epochs."
   ]
  },
  {
   "cell_type": "code",
   "execution_count": 1,
   "id": "0d6ba2f1",
   "metadata": {},
   "outputs": [],
   "source": [
    "import numpy as np\n",
    "import pandas as pd\n",
    "import matplotlib.pyplot as plt\n",
    "from ipywidgets import interact, IntSlider\n",
    "\n",
    "# Load dataset\n",
    "df = pd.read_csv(\"data/Insurance_Claim_Dataset.csv\")\n",
    "X = df[\"Age\"].values\n",
    "y = df[\"Claim\"].values\n",
    "\n",
    "# Sigmoid function\n",
    "def sigmoid(z):\n",
    "    return 1 / (1 + np.exp(-z))\n",
    "\n",
    "# Gradient Descent with history capture\n",
    "def train_with_history(X, y, lr=0.001, epochs=50000):\n",
    "    m = len(y)\n",
    "    theta_0, theta_1 = 0.0, 0.0\n",
    "    history = []\n",
    "\n",
    "    for epoch in range(epochs):\n",
    "        total_grad_0 = 0.0\n",
    "        total_grad_1 = 0.0\n",
    "\n",
    "        for i in range(m):\n",
    "            x_i = X[i]\n",
    "            y_i = y[i]\n",
    "            z = theta_0 + theta_1 * x_i\n",
    "            h = np.clip(sigmoid(z), 1e-5, 1 - 1e-5)\n",
    "\n",
    "            error = h - y_i\n",
    "            total_grad_0 += error\n",
    "            total_grad_1 += error * x_i\n",
    "\n",
    "        theta_0 -= lr * total_grad_0 / m\n",
    "        theta_1 -= lr * total_grad_1 / m\n",
    "\n",
    "        if epoch % 10 == 0:\n",
    "            history.append((epoch, theta_0, theta_1))\n",
    "\n",
    "    return history\n",
    "\n",
    "history = train_with_history(X, y)"
   ]
  },
  {
   "cell_type": "code",
   "execution_count": 2,
   "id": "a653111c",
   "metadata": {},
   "outputs": [],
   "source": [
    "def plot_sigmoid_epoch(epoch_idx):\n",
    "    epoch, theta_0, theta_1 = history[epoch_idx]\n",
    "    x_vals = np.linspace(X.min(), X.max(), 200)\n",
    "    z = theta_0 + theta_1 * x_vals\n",
    "    probs = sigmoid(z)\n",
    "\n",
    "    plt.figure(figsize=(8, 5))\n",
    "    plt.scatter(X, y, c=y, cmap='bwr', edgecolors='k', alpha=0.6)\n",
    "    plt.plot(x_vals, probs, color='green', lw=2, label=f\"Epoch {epoch}\")\n",
    "    plt.title(f\"Sigmoid Curve at Epoch {epoch}\\nθ₀={theta_0:.2f}, θ₁={theta_1:.2f}\")\n",
    "    plt.xlabel(\"Age\")\n",
    "    plt.ylabel(\"Claim Probability\")\n",
    "    plt.ylim(-0.1, 1.1)\n",
    "    plt.grid(True)\n",
    "    plt.legend()\n",
    "    plt.show()"
   ]
  },
  {
   "cell_type": "code",
   "execution_count": null,
   "id": "ed9b40b5",
   "metadata": {},
   "outputs": [
    {
     "data": {
      "application/vnd.jupyter.widget-view+json": {
       "model_id": "3e21ce1bfceb410a9392d5740ad54db4",
       "version_major": 2,
       "version_minor": 0
      },
      "text/plain": [
       "interactive(children=(IntSlider(value=0, description='epoch_idx', max=4999), Output()), _dom_classes=('widget-…"
      ]
     },
     "metadata": {},
     "output_type": "display_data"
    }
   ],
   "source": [
    "interact(plot_sigmoid_epoch,\n",
    "         epoch_idx=IntSlider(min=0, max=len(history)-1, step=1, value=0));"
   ]
  }
 ],
 "metadata": {
  "kernelspec": {
   "display_name": "Python 3",
   "language": "python",
   "name": "python3"
  },
  "language_info": {
   "codemirror_mode": {
    "name": "ipython",
    "version": 3
   },
   "file_extension": ".py",
   "mimetype": "text/x-python",
   "name": "python",
   "nbconvert_exporter": "python",
   "pygments_lexer": "ipython3",
   "version": "3.11.0"
  }
 },
 "nbformat": 4,
 "nbformat_minor": 5
}
